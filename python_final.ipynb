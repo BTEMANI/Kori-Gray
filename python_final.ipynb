{
 "cells": [
  {
   "cell_type": "code",
   "execution_count": null,
   "id": "15ac238f-ef01-4063-9b08-d9cb2aada7f2",
   "metadata": {},
   "outputs": [],
   "source": [
    "tasks = [\n",
    "    {'name' : 'Write email to Jan', 'completed' : True},\n",
    "    {'name' : 'Sweep front porch', 'completed' : True},\n",
    "    {'name' : 'Call mom', 'completed' : False}\n",
    "]\n"
   ]
  },
  {
   "cell_type": "code",
   "execution_count": null,
   "id": "4c83cd5f-8226-4a71-b79f-61a42943a6ef",
   "metadata": {},
   "outputs": [],
   "source": [
    "tasks = [\n",
    "    {'name' : 'Write email to Jan', 'completed' : True},\n",
    "    {'name' : 'Sweep front porch', 'completed' : True},\n",
    "    {'name' : 'Call mom', 'completed' : False}\n",
    "]\n",
    "\n",
    "\n",
    "\n",
    "def list_tasks():\n",
    "    for index, task in enumerate(tasks):\n",
    "        print(str.format('{}: {} (Completed: {})', index, task['name'], task['completed']))\n",
    "\n",
    "def add_task():\n",
    "    task_text = input('Please add a task: ')\n",
    "    new_task  = {'name': task_text, 'completed': False}\n",
    "    tasks.append(new_task)\n",
    "    \n",
    "def remove_task():\n",
    "    list_tasks()\n",
    "    remove_task = int(input('Please enter the number of the task to be removed:'))\n",
    "    tasks.remove(tasks[remove_task])\n",
    "    \n",
    "def complete_task():\n",
    "    list_tasks()\n",
    "    complete_task = int(input('Please enter the number of the task that you completed:'))\n",
    "    tasks[complete_task]['completed']= True\n",
    "    \n",
    "    \n",
    "    menu_text = \"\"\"\n",
    "\n",
    "====================\n",
    "1. List the tasks\n",
    "2. Add a task\n",
    "3. Remove a task\n",
    "4. Mark task complete\n",
    "5. Quit\n",
    "\n",
    "What would you like to do? \"\"\"\n",
    "    \n",
    "    program_is_running = True\n",
    "\n",
    "while program_is_running:\n",
    "    decision = input(menu_text)\n",
    "    if decision == '1':\n",
    "        list_tasks()\n",
    "    if decision == '2':\n",
    "        add_task()\n",
    "    if decision == '3':\n",
    "        remove_task()\n",
    "    if decision == '4':\n",
    "        complete_task()\n",
    "        \n",
    "\n",
    "    # Add elif statements for inputs 2, 3, and 4\n",
    "\n",
    "    elif decision == '5':\n",
    "        program_is_running = False\n",
    "    else:\n",
    "        print('please choose a valid option')"
   ]
  },
  {
   "cell_type": "markdown",
   "id": "468f7e92",
   "metadata": {},
   "source": [
    "\n",
    "====================\n",
    "1. List the tasks\n",
    "2. Add a task\n",
    "3. Remove a task\n",
    "4. Mark task complete\n",
    "5. Quit\n",
    "\n",
    "What would you like to do?  \"\"\""
   ]
  },
  {
   "cell_type": "code",
   "execution_count": null,
   "id": "8d091c48-53fd-4c57-aa24-e7339c155004",
   "metadata": {},
   "outputs": [],
   "source": []
  }
 ],
 "metadata": {
  "kernelspec": {
   "display_name": "Python 3 (ipykernel)",
   "language": "python",
   "name": "python3"
  },
  "language_info": {
   "codemirror_mode": {
    "name": "ipython",
    "version": 3
   },
   "file_extension": ".py",
   "mimetype": "text/x-python",
   "name": "python",
   "nbconvert_exporter": "python",
   "pygments_lexer": "ipython3",
   "version": "3.10.6"
  }
 },
 "nbformat": 4,
 "nbformat_minor": 5
}
